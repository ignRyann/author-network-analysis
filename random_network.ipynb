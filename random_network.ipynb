{
 "cells": [
  {
   "cell_type": "code",
   "execution_count": 499,
   "metadata": {},
   "outputs": [],
   "source": [
    "import networkx as nx\n",
    "import random\n",
    "import matplotlib.pyplot as plt\n",
    "import numpy as np\n",
    "seed = 18\n",
    "random.seed(seed)"
   ]
  },
  {
   "cell_type": "code",
   "execution_count": 500,
   "metadata": {},
   "outputs": [],
   "source": [
    "n = 2068\n",
    "e = 5163"
   ]
  },
  {
   "cell_type": "code",
   "execution_count": 501,
   "metadata": {},
   "outputs": [],
   "source": [
    "random_network = nx.gnm_random_graph(n, e, seed= seed)"
   ]
  },
  {
   "cell_type": "code",
   "execution_count": 502,
   "metadata": {},
   "outputs": [],
   "source": [
    "def create_random_connected_graph(n, e):\n",
    "    # Start with a tree graph (n-1 edges, and connected)\n",
    "    G = nx.random_tree(n, seed= seed)\n",
    "    \n",
    "    # Add remaining edges\n",
    "    remaining_edges = e - (n - 1)\n",
    "    while remaining_edges > 0:\n",
    "        # Randomly select two nodes\n",
    "        u, v = random.sample(list(G.nodes()), 2)\n",
    "        \n",
    "        # Add an edge between them if it doesn't already exist\n",
    "        if not G.has_edge(u, v):\n",
    "            G.add_edge(u, v)\n",
    "            remaining_edges -= 1\n",
    "    \n",
    "    return G"
   ]
  },
  {
   "cell_type": "code",
   "execution_count": 503,
   "metadata": {},
   "outputs": [],
   "source": [
    "random_network2 = create_random_connected_graph(n, e)"
   ]
  },
  {
   "cell_type": "code",
   "execution_count": 504,
   "metadata": {},
   "outputs": [],
   "source": [
    "def create_random_connected_graph2(n, e):\n",
    "    # Step 1: Generate a random graph\n",
    "    G = nx.gnm_random_graph(n, e, seed= seed)\n",
    "    \n",
    "    # Step 2: Ensure connectivity\n",
    "    if not nx.is_connected(G):\n",
    "        components = list(nx.connected_components(G))\n",
    "        while len(components) > 1:\n",
    "            # Sort components by size to preferentially remove edges from larger components\n",
    "            components = sorted(components, key=len, reverse=True)\n",
    "            \n",
    "            # Connect two nodes from different components\n",
    "            u = random.choice(list(components[0]))\n",
    "            v = random.choice(list(components[1]))\n",
    "            G.add_edge(u, v)\n",
    "            \n",
    "            # Remove a random edge from the larger component\n",
    "            u_prime, v_prime = random.choice(list(G.edges(components[0])))\n",
    "            G.remove_edge(u_prime, v_prime)\n",
    "            \n",
    "            components = list(nx.connected_components(G))\n",
    "\n",
    "    return G"
   ]
  },
  {
   "cell_type": "code",
   "execution_count": 505,
   "metadata": {},
   "outputs": [],
   "source": [
    "random_network3 = create_random_connected_graph2(n, e)"
   ]
  },
  {
   "cell_type": "code",
   "execution_count": 506,
   "metadata": {},
   "outputs": [],
   "source": [
    "\n",
    "def create_random_connected_graph3(n, e):\n",
    "    G = nx.gnm_random_graph(n, e, seed= seed)\n",
    "    largest_cc_nodes = max(nx.connected_components(G), key=len)\n",
    "    missing_nodes = set(G.nodes()) - set(largest_cc_nodes)\n",
    "    \n",
    "    new_random_network = G.copy()\n",
    "    \n",
    "    # Calculate node degrees in the original graph\n",
    "    degrees = dict(new_random_network.degree())\n",
    "    \n",
    "    for node in missing_nodes:\n",
    "        # Choose a node to connect to from the largest connected component based on its degree\n",
    "        target = random.choices(list(largest_cc_nodes), weights=[degrees[node] for node in largest_cc_nodes])[0]\n",
    "        \n",
    "        new_random_network.add_edge(node, target)\n",
    "        \n",
    "        # Update the degree dictionary and the set of largest_cc_nodes\n",
    "        degrees[node] = 1\n",
    "        degrees[target] += 1\n",
    "        largest_cc_nodes.add(node)\n",
    "\n",
    "    # Remove excess edges to retain the original number of edges\n",
    "    while new_random_network.number_of_edges() > e:\n",
    "        edge_to_remove = random.choice(list(new_random_network.edges()))\n",
    "        new_random_network.remove_edge(*edge_to_remove)\n",
    "\n",
    "    return new_random_network\n"
   ]
  },
  {
   "cell_type": "code",
   "execution_count": 507,
   "metadata": {},
   "outputs": [],
   "source": [
    "random_network4 = create_random_connected_graph3(n, e)"
   ]
  },
  {
   "cell_type": "code",
   "execution_count": 508,
   "metadata": {},
   "outputs": [],
   "source": [
    "def plot_degree_distribution(graphs, graph_names):\n",
    "    colors = [\"red\", \"green\", \"blue\", \"black\"]\n",
    "    markers = ['o', 's', '^', 'H']\n",
    "    facecolors = ['none', 'none', 'none', 'none']\n",
    "    \n",
    "    # Linear scale plot\n",
    "    plt.figure(figsize=(12,6))\n",
    "    plt.subplot(1, 2, 1)  # first subplot\n",
    "    plt.title(\"Linear-Linear Scale\")\n",
    "    plt.xlabel(\"Degree $k$\")\n",
    "    plt.ylabel(\"Probability $P(X=k)$\")\n",
    "\n",
    "    for i, G in enumerate(graphs):\n",
    "        N_k = nx.degree_histogram(G)[1:]\n",
    "        pk = [i/sum(N_k) for i in N_k]  # normalized so they sum to 1\n",
    "        k = list(range(1, len(N_k) + 1))\n",
    "        plt.scatter(k, pk, edgecolors=colors[i], label=graph_names[i], marker=markers[i], facecolors=facecolors[i])\n",
    "\n",
    "        # Fitting a line of best fit using polyfit\n",
    "        # coeffs = np.polyfit(k, pk, 7)\n",
    "        # p = np.poly1d(coeffs)\n",
    "        # plt.plot(k, p(k), color=colors[i], linestyle=\"--\", label=f\"Fit for {graph_names[i]}\")\n",
    "    \n",
    "    plt.legend(loc='upper right')\n",
    "    \n",
    "    # Log-log scale plot\n",
    "    plt.title(\"Linear-Linear\")\n",
    "    plt.xlabel(\"Degree $k$\")\n",
    "    plt.ylabel(\"Probability $P(X=k)$\")\n",
    "    plt.show()"
   ]
  },
  {
   "cell_type": "code",
   "execution_count": 509,
   "metadata": {},
   "outputs": [
    {
     "data": {
      "image/png": "[encoded data removed]",
      "text/plain": [
       "<Figure size 1200x600 with 1 Axes>"
      ]
     },
     "metadata": {},
     "output_type": "display_data"
    }
   ],
   "source": [
    "plot_degree_distribution([random_network, random_network2, random_network3, random_network4], [\"Normal\", \"Ryan\", \"Kate\", \"New\"])"
   ]
  },
  {
   "cell_type": "code",
   "execution_count": null,
   "metadata": {},
   "outputs": [],
   "source": []
  },
  {
   "cell_type": "code",
   "execution_count": null,
   "metadata": {},
   "outputs": [],
   "source": []
  }
 ],
 "metadata": {
  "kernelspec": {
   "display_name": "Python 3",
   "language": "python",
   "name": "python3"
  },
  "language_info": {
   "codemirror_mode": {
    "name": "ipython",
    "version": 3
   },
   "file_extension": ".py",
   "mimetype": "text/x-python",
   "name": "python",
   "nbconvert_exporter": "python",
   "pygments_lexer": "ipython3",
   "version": "3.11.4"
  }
 },
 "nbformat": 4,
 "nbformat_minor": 2
}
